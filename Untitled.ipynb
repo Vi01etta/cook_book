{
 "cells": [
  {
   "cell_type": "code",
   "execution_count": null,
   "id": "dangerous-territory",
   "metadata": {},
   "outputs": [],
   "source": [
    "from pprint import pprint\n",
    "cook_book = {}\n",
    "with open('cook_book.txt', 'r', encoding = 'utf-8') as f:\n",
    "    while True:\n",
    "        cook_list = []\n",
    "        f.seek(0)\n",
    "        name_of_dish = f.readline().strip()\n",
    "        count = int(f.readline())\n",
    "        cook_book[name_of_dish] = cook_list\n",
    "        for _ in range(count):\n",
    "            ingr = f.readline().strip()\n",
    "            splited = ingr.split('|')\n",
    "            ingridients = {}\n",
    "            ingridients['ingredient_name'] = splited[0]\n",
    "            ingridients['quantity'] = splited[1]\n",
    "            ingridients['measure'] = splited[2]\n",
    "            cook_list.append(ingridients)\n",
    "        f.readline()\n",
    "        if not name_of_dish:\n",
    "            break\n",
    "      \n",
    "\n",
    "pprint(my_book)\n",
    "            \n",
    "def get_shop_list_by_dishes(dishes, person_count):\n",
    "    ingr_dict = {}\n",
    "    for dish in dishes: \n",
    "        for ingr in cook_book[dish]:\n",
    "            ingr_dict1 = {}\n",
    "            a = ingr['ingredient_name']\n",
    "            ingr_dict1['measure'] = ingr['measure'] \n",
    "            ingr_dict1['quantity'] = int(ingr['quantity']) * int(person_count)\n",
    "            if a in ingr_dict:\n",
    "               ingr_dict1['quantity'] += ingr_dict[a]['quantity']\n",
    "            ingr_dict[a] = ingr_dict1\n",
    "    return ingr_dict   \n",
    "\n",
    "\n",
    "pprint(get_shop_list_by_dishes(['Фахитос', 'Омлет'], 2))"
   ]
  },
  {
   "cell_type": "code",
   "execution_count": null,
   "id": "binary-relief",
   "metadata": {},
   "outputs": [],
   "source": []
  },
  {
   "cell_type": "code",
   "execution_count": null,
   "id": "increasing-holiday",
   "metadata": {},
   "outputs": [],
   "source": []
  }
 ],
 "metadata": {
  "kernelspec": {
   "display_name": "Python 3",
   "language": "python",
   "name": "python3"
  },
  "language_info": {
   "codemirror_mode": {
    "name": "ipython",
    "version": 3
   },
   "file_extension": ".py",
   "mimetype": "text/x-python",
   "name": "python",
   "nbconvert_exporter": "python",
   "pygments_lexer": "ipython3",
   "version": "3.9.1"
  }
 },
 "nbformat": 4,
 "nbformat_minor": 5
}
